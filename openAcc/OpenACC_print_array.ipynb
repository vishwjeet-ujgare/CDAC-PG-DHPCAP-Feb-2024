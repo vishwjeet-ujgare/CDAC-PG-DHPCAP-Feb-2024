{
 "cells": [
  {
   "cell_type": "code",
   "execution_count": null,
   "metadata": {},
   "outputs": [],
   "source": [
    "%%writefile openacc_print_array.c\n",
    "#include <stdio.h>\n",
    "#define N 10\n",
    "int array[N];\n",
    "int main() {\n",
    "#pragma acc parallel loop copy(array[0:N])\n",
    "   for(int i = 0; i < N; i++) {\n",
    "     array[i]=i;\n",
    "      printf(\"%d ,\", array[i]);\n",
    "   }\n",
    "   \n",
    "}"
   ]
  },
  {
   "cell_type": "code",
   "execution_count": null,
   "metadata": {},
   "outputs": [],
   "source": [
    "!/opt/nvidia/hpc_sdk/Linux_x86_64/24.5/compilers/bin/nvc -acc openacc_print_array.c -o openacc_print_array"
   ]
  },
  {
   "cell_type": "code",
   "execution_count": null,
   "metadata": {},
   "outputs": [],
   "source": [
    "!./openacc_print_array"
   ]
  }
 ],
 "metadata": {
  "language_info": {
   "name": "python"
  }
 },
 "nbformat": 4,
 "nbformat_minor": 2
}
