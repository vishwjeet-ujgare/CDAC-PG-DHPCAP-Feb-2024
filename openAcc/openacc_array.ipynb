{
  "nbformat": 4,
  "nbformat_minor": 0,
  "metadata": {
    "colab": {
      "provenance": [],
      "gpuType": "T4"
    },
    "kernelspec": {
      "name": "python3",
      "display_name": "Python 3"
    },
    "language_info": {
      "name": "python"
    },
    "accelerator": "GPU"
  },
  "cells": [
    {
      "cell_type": "code",
      "execution_count": 1,
      "metadata": {
        "colab": {
          "base_uri": "https://localhost:8080/"
        },
        "id": "GMsAA4MjVBEI",
        "outputId": "f2339c4a-bc85-424a-dd07-b60a7d50a63a"
      },
      "outputs": [
        {
          "output_type": "stream",
          "name": "stdout",
          "text": [
            "  % Total    % Received % Xferd  Average Speed   Time    Time     Time  Current\n",
            "                                 Dload  Upload   Total   Spent    Left  Speed\n",
            "\r  0     0    0     0    0     0      0      0 --:--:-- --:--:-- --:--:--     0\r100  1626  100  1626    0     0  10184      0 --:--:-- --:--:-- --:--:-- 10226\n"
          ]
        }
      ],
      "source": [
        "!curl https://developer.download.nvidia.com/hpc-sdk/ubuntu/DEB-GPG-KEY-NVIDIA-HPC-SDK | sudo gpg --dearmor -o /usr/share/keyrings/nvidia-hpcsdk-archive-keyring.gpg\n"
      ]
    },
    {
      "cell_type": "code",
      "source": [
        "!echo 'deb [signed-by=/usr/share/keyrings/nvidia-hpcsdk-archive-keyring.gpg] https://developer.download.nvidia.com/hpc-sdk/ubuntu/amd64 /' | sudo tee /etc/apt/sources.list.d/nvhpc.list\n"
      ],
      "metadata": {
        "colab": {
          "base_uri": "https://localhost:8080/"
        },
        "id": "8hC9q1dcVVWU",
        "outputId": "13e0a560-fddc-437e-bc97-ac2f7b04e3bf"
      },
      "execution_count": 2,
      "outputs": [
        {
          "output_type": "stream",
          "name": "stdout",
          "text": [
            "deb [signed-by=/usr/share/keyrings/nvidia-hpcsdk-archive-keyring.gpg] https://developer.download.nvidia.com/hpc-sdk/ubuntu/amd64 /\n"
          ]
        }
      ]
    },
    {
      "cell_type": "code",
      "source": [
        "!sudo apt-get update -y\n"
      ],
      "metadata": {
        "colab": {
          "base_uri": "https://localhost:8080/"
        },
        "id": "I826EoAfVcC6",
        "outputId": "fffbd06f-7fbb-4270-aeb8-59a0add918c9"
      },
      "execution_count": 3,
      "outputs": [
        {
          "output_type": "stream",
          "name": "stdout",
          "text": [
            "\r0% [Working]\r            \rGet:1 https://cloud.r-project.org/bin/linux/ubuntu jammy-cran40/ InRelease [3,626 B]\n",
            "\r0% [Connecting to archive.ubuntu.com] [Connecting to security.ubuntu.com (185.1\r0% [Connecting to archive.ubuntu.com] [Connecting to security.ubuntu.com (185.1\r                                                                               \rHit:2 https://developer.download.nvidia.com/compute/cuda/repos/ubuntu2204/x86_64  InRelease\n",
            "Get:3 https://developer.download.nvidia.com/hpc-sdk/ubuntu/amd64  InRelease [2,126 B]\n",
            "Get:4 http://security.ubuntu.com/ubuntu jammy-security InRelease [110 kB]\n",
            "Hit:5 http://archive.ubuntu.com/ubuntu jammy InRelease\n",
            "Get:6 https://developer.download.nvidia.com/hpc-sdk/ubuntu/amd64  Packages [22.7 kB]\n",
            "Get:7 http://archive.ubuntu.com/ubuntu jammy-updates InRelease [119 kB]\n",
            "Get:8 http://security.ubuntu.com/ubuntu jammy-security/universe amd64 Packages [1,084 kB]\n",
            "Get:9 http://archive.ubuntu.com/ubuntu jammy-backports InRelease [109 kB]\n",
            "Get:10 http://archive.ubuntu.com/ubuntu jammy-updates/universe amd64 Packages [1,376 kB]\n",
            "Get:11 http://security.ubuntu.com/ubuntu jammy-security/main amd64 Packages [1,854 kB]\n",
            "Get:12 http://archive.ubuntu.com/ubuntu jammy-updates/main amd64 Packages [2,125 kB]\n",
            "Hit:13 https://ppa.launchpadcontent.net/c2d4u.team/c2d4u4.0+/ubuntu jammy InRelease\n",
            "Get:14 http://archive.ubuntu.com/ubuntu jammy-backports/main amd64 Packages [110 kB]\n",
            "Get:15 http://archive.ubuntu.com/ubuntu jammy-backports/universe amd64 Packages [35.0 kB]\n",
            "Hit:16 https://ppa.launchpadcontent.net/deadsnakes/ppa/ubuntu jammy InRelease\n",
            "Hit:17 https://ppa.launchpadcontent.net/graphics-drivers/ppa/ubuntu jammy InRelease\n",
            "Hit:18 https://ppa.launchpadcontent.net/ubuntugis/ppa/ubuntu jammy InRelease\n",
            "Fetched 6,951 kB in 2s (3,419 kB/s)\n",
            "Reading package lists... Done\n"
          ]
        }
      ]
    },
    {
      "cell_type": "code",
      "source": [
        "!sudo apt-get install -y nvhpc-24-5\n"
      ],
      "metadata": {
        "colab": {
          "base_uri": "https://localhost:8080/"
        },
        "id": "XFeQFRl8Vg4S",
        "outputId": "68c5e9dd-1975-4c55-be2f-285f49d95725"
      },
      "execution_count": 4,
      "outputs": [
        {
          "output_type": "stream",
          "name": "stdout",
          "text": [
            "Reading package lists... Done\n",
            "Building dependency tree... Done\n",
            "Reading state information... Done\n",
            "The following NEW packages will be installed:\n",
            "  nvhpc-24-5\n",
            "0 upgraded, 1 newly installed, 0 to remove and 47 not upgraded.\n",
            "Need to get 4,237 MB of archives.\n",
            "After this operation, 14.2 GB of additional disk space will be used.\n",
            "Get:1 https://developer.download.nvidia.com/hpc-sdk/ubuntu/amd64  nvhpc-24-5 24.5 [4,237 MB]\n",
            "Fetched 4,237 MB in 50s (84.9 MB/s)\n",
            "debconf: unable to initialize frontend: Dialog\n",
            "debconf: (No usable dialog-like program is installed, so the dialog based frontend cannot be used. at /usr/share/perl5/Debconf/FrontEnd/Dialog.pm line 78, <> line 1.)\n",
            "debconf: falling back to frontend: Readline\n",
            "debconf: unable to initialize frontend: Readline\n",
            "debconf: (This frontend requires a controlling tty.)\n",
            "debconf: falling back to frontend: Teletype\n",
            "dpkg-preconfigure: unable to re-open stdin: \n",
            "Selecting previously unselected package nvhpc-24-5.\n",
            "(Reading database ... 121918 files and directories currently installed.)\n",
            "Preparing to unpack .../nvhpc-24-5_24.5_amd64.deb ...\n",
            "Unpacking nvhpc-24-5 (24.5) ...\n",
            "Setting up nvhpc-24-5 (24.5) ...\n"
          ]
        }
      ]
    },
    {
      "cell_type": "code",
      "source": [
        "!/opt/nvidia/hpc_sdk/Linux_x86_64/24.5/compilers/bin/nvaccelinfo"
      ],
      "metadata": {
        "colab": {
          "base_uri": "https://localhost:8080/"
        },
        "id": "WJHk99rvXKlk",
        "outputId": "9bb40d7b-9d6c-4d9a-fcae-c2bfcd7dff29"
      },
      "execution_count": 7,
      "outputs": [
        {
          "output_type": "stream",
          "name": "stdout",
          "text": [
            "\n",
            "CUDA Driver Version:           12020\n",
            "NVRM version:                  NVIDIA UNIX x86_64 Kernel Module  535.104.05  Sat Aug 19 01:15:15 UTC 2023\n",
            "\n",
            "Device Number:                 0\n",
            "Device Name:                   Tesla T4\n",
            "Device Revision Number:        7.5\n",
            "Global Memory Size:            15835660288\n",
            "Number of Multiprocessors:     40\n",
            "Concurrent Copy and Execution: Yes\n",
            "Total Constant Memory:         65536\n",
            "Total Shared Memory per Block: 49152\n",
            "Registers per Block:           65536\n",
            "Warp Size:                     32\n",
            "Maximum Threads per Block:     1024\n",
            "Maximum Block Dimensions:      1024, 1024, 64\n",
            "Maximum Grid Dimensions:       2147483647 x 65535 x 65535\n",
            "Maximum Memory Pitch:          2147483647B\n",
            "Texture Alignment:             512B\n",
            "Clock Rate:                    1590 MHz\n",
            "Execution Timeout:             No\n",
            "Integrated Device:             No\n",
            "Can Map Host Memory:           Yes\n",
            "Compute Mode:                  default\n",
            "Concurrent Kernels:            Yes\n",
            "ECC Enabled:                   Yes\n",
            "Memory Clock Rate:             5001 MHz\n",
            "Memory Bus Width:              256 bits\n",
            "L2 Cache Size:                 4194304 bytes\n",
            "Max Threads Per SMP:           1024\n",
            "Async Engines:                 3\n",
            "Unified Addressing:            Yes\n",
            "Managed Memory:                Yes\n",
            "Concurrent Managed Memory:     Yes\n",
            "Preemption Supported:          Yes\n",
            "Cooperative Launch:            Yes\n",
            "Default Target:                cc75\n"
          ]
        }
      ]
    },
    {
      "cell_type": "code",
      "source": [
        "%%writefile openacc_array.c\n",
        "#include <stdio.h>\n",
        "#define N 1000\n",
        "int array[N];\n",
        "int main() {\n",
        "#pragma acc parallel loop copy(array[0:N])\n",
        "   for(int i = 0; i < N; i++) {\n",
        "      array[i] = 3.0;\n",
        "   }\n",
        "   printf(\"Success!\\n\");\n",
        "}\n",
        ""
      ],
      "metadata": {
        "colab": {
          "base_uri": "https://localhost:8080/"
        },
        "id": "JzL-0KiQXf26",
        "outputId": "32d1dfb7-4107-4ee3-f5c3-472fff8149f6"
      },
      "execution_count": 8,
      "outputs": [
        {
          "output_type": "stream",
          "name": "stdout",
          "text": [
            "Writing openacc_array.c\n"
          ]
        }
      ]
    },
    {
      "cell_type": "code",
      "source": [
        "!/opt/nvidia/hpc_sdk/Linux_x86_64/24.5/compilers/bin/nvc -acc openacc_array.c -o openacc_array"
      ],
      "metadata": {
        "id": "ZMcYjBrJYXYa"
      },
      "execution_count": 11,
      "outputs": []
    },
    {
      "cell_type": "code",
      "source": [
        "ls -l"
      ],
      "metadata": {
        "colab": {
          "base_uri": "https://localhost:8080/"
        },
        "id": "G9bSa7iJYqj7",
        "outputId": "12970e1a-23d7-4d19-abc5-913bf7839b29"
      },
      "execution_count": 13,
      "outputs": [
        {
          "output_type": "stream",
          "name": "stdout",
          "text": [
            "total 36\n",
            "-rwxr-xr-x 1 root root 28208 May 29 03:26 \u001b[0m\u001b[01;32mopenacc_array\u001b[0m*\n",
            "-rw-r--r-- 1 root root   193 May 29 03:24 openacc_array.c\n",
            "drwxr-xr-x 1 root root  4096 May 24 13:22 \u001b[01;34msample_data\u001b[0m/\n"
          ]
        }
      ]
    },
    {
      "cell_type": "code",
      "source": [
        "!./openacc_array"
      ],
      "metadata": {
        "colab": {
          "base_uri": "https://localhost:8080/"
        },
        "id": "RqhcUzADYyxj",
        "outputId": "d0981442-9e92-4c0a-f738-5ae481aac225"
      },
      "execution_count": 14,
      "outputs": [
        {
          "output_type": "stream",
          "name": "stdout",
          "text": [
            "Success!\n"
          ]
        }
      ]
    }
  ]
}