{
  "nbformat": 4,
  "nbformat_minor": 0,
  "metadata": {
    "colab": {
      "provenance": []
    },
    "kernelspec": {
      "name": "python3",
      "display_name": "Python 3"
    },
    "language_info": {
      "name": "python"
    }
  },
  "cells": [
    {
      "cell_type": "markdown",
      "source": [
        "# Basic syntac for Q2 for **OpenCL**"
      ],
      "metadata": {
        "id": "I47Mf1ML4eNd"
      }
    },
    {
      "cell_type": "code",
      "execution_count": 1,
      "metadata": {
        "colab": {
          "base_uri": "https://localhost:8080/",
          "height": 106
        },
        "id": "cZ6z-hQM4cFh",
        "outputId": "3359090b-2181-45fc-ef5b-a18c4d29ab13"
      },
      "outputs": [
        {
          "output_type": "error",
          "ename": "SyntaxError",
          "evalue": "invalid syntax (<ipython-input-1-1cea22d28541>, line 5)",
          "traceback": [
            "\u001b[0;36m  File \u001b[0;32m\"<ipython-input-1-1cea22d28541>\"\u001b[0;36m, line \u001b[0;32m5\u001b[0m\n\u001b[0;31m    //OpenCL kernel code\u001b[0m\n\u001b[0m    ^\u001b[0m\n\u001b[0;31mSyntaxError\u001b[0m\u001b[0;31m:\u001b[0m invalid syntax\n"
          ]
        }
      ],
      "source": [
        "#include<stdio.h>\n",
        "#include<stdlib.h>\n",
        "#include<CL/cl.h>\n",
        "\n",
        "\n",
        "const char *kernelSource=\"__kernel void helloworld(){\\n\"\n",
        "                        \"printf(\\\"Hello world heere we can write kernl code! \\\\n\\\");\\n\"\n",
        "                        \"}\\n\";\n",
        "\n",
        "int main(){\n",
        "    cl_platform_id platform;\n",
        "    cl_device_id device;\n",
        "    cl_context context;\n",
        "    cl_command_queue queue;\n",
        "    cl_program program;\n",
        "    cl_kernel kernel;\n",
        "\n",
        "    clGetPlatformIDs(1,&platform,NULL);\n",
        "    clGetDeviceIDs(platform,CL_DEVICE_TYPE_GPU,1,&device,NULL);\n",
        "\n",
        "\n",
        "    context=clCreateContext(NULL,1,&device,NULL,NULL,NULL);\n",
        "    queue=clCreateCommandQueue(context,device,0,NULL);\n",
        "\n",
        "\n",
        "    program=clCreateProgramWithSource(context,1,(const char**)&kernelSource,NULL,NULL);\n",
        "    clBuildProgram(program,1,&device,NULL,NULL,NULL);\n",
        "\n",
        "\n",
        "    kernel=clCreateKernel(program,\"helloWorld\",NULL);\n",
        "\n",
        "\n",
        "    clEnqueueTask(queue,kernel,0,NULL,NULL);\n",
        "\n",
        "\n",
        "    clReleaseKernel(kernel);\n",
        "    clReleaseProgram(program);\n",
        "    clReleaseCommandQueue(queue);\n",
        "    clReleaseContext(context);\n",
        "\n",
        "    return 0;\n",
        "}"
      ]
    }
  ]
}