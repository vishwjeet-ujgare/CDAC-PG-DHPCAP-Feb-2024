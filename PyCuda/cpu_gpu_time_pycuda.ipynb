{
  "nbformat": 4,
  "nbformat_minor": 0,
  "metadata": {
    "colab": {
      "provenance": [],
      "gpuType": "T4"
    },
    "kernelspec": {
      "name": "python3",
      "display_name": "Python 3"
    },
    "language_info": {
      "name": "python"
    },
    "accelerator": "GPU"
  },
  "cells": [
    {
      "cell_type": "code",
      "source": [
        "!pip install pycuda"
      ],
      "metadata": {
        "colab": {
          "base_uri": "https://localhost:8080/"
        },
        "id": "8Zrgr3Wu73Kz",
        "outputId": "386db52d-fe2b-45cc-f325-4c192cfd5ab4"
      },
      "execution_count": 1,
      "outputs": [
        {
          "output_type": "stream",
          "name": "stdout",
          "text": [
            "Collecting pycuda\n",
            "  Downloading pycuda-2024.1.tar.gz (1.7 MB)\n",
            "\u001b[2K     \u001b[90m━━━━━━━━━━━━━━━━━━━━━━━━━━━━━━━━━━━━━━━━\u001b[0m \u001b[32m1.7/1.7 MB\u001b[0m \u001b[31m20.1 MB/s\u001b[0m eta \u001b[36m0:00:00\u001b[0m\n",
            "\u001b[?25h  Installing build dependencies ... \u001b[?25l\u001b[?25hdone\n",
            "  Getting requirements to build wheel ... \u001b[?25l\u001b[?25hdone\n",
            "  Preparing metadata (pyproject.toml) ... \u001b[?25l\u001b[?25hdone\n",
            "Collecting pytools>=2011.2 (from pycuda)\n",
            "  Downloading pytools-2024.1.3-py2.py3-none-any.whl (87 kB)\n",
            "\u001b[2K     \u001b[90m━━━━━━━━━━━━━━━━━━━━━━━━━━━━━━━━━━━━━━━━\u001b[0m \u001b[32m87.4/87.4 kB\u001b[0m \u001b[31m13.9 MB/s\u001b[0m eta \u001b[36m0:00:00\u001b[0m\n",
            "\u001b[?25hCollecting appdirs>=1.4.0 (from pycuda)\n",
            "  Downloading appdirs-1.4.4-py2.py3-none-any.whl (9.6 kB)\n",
            "Collecting mako (from pycuda)\n",
            "  Downloading Mako-1.3.5-py3-none-any.whl (78 kB)\n",
            "\u001b[2K     \u001b[90m━━━━━━━━━━━━━━━━━━━━━━━━━━━━━━━━━━━━━━━━\u001b[0m \u001b[32m78.6/78.6 kB\u001b[0m \u001b[31m11.8 MB/s\u001b[0m eta \u001b[36m0:00:00\u001b[0m\n",
            "\u001b[?25hRequirement already satisfied: platformdirs>=2.2.0 in /usr/local/lib/python3.10/dist-packages (from pytools>=2011.2->pycuda) (4.2.2)\n",
            "Requirement already satisfied: typing-extensions>=4.0 in /usr/local/lib/python3.10/dist-packages (from pytools>=2011.2->pycuda) (4.11.0)\n",
            "Requirement already satisfied: MarkupSafe>=0.9.2 in /usr/local/lib/python3.10/dist-packages (from mako->pycuda) (2.1.5)\n",
            "Building wheels for collected packages: pycuda\n",
            "  Building wheel for pycuda (pyproject.toml) ... \u001b[?25l\u001b[?25hdone\n",
            "  Created wheel for pycuda: filename=pycuda-2024.1-cp310-cp310-linux_x86_64.whl size=661204 sha256=923ebc17af742cae671d4d29b238d663e5a39c245d0efae541ed503a844f3980\n",
            "  Stored in directory: /root/.cache/pip/wheels/12/34/d2/9a349255a4eca3a486d82c79d21e138ce2ccd90f414d9d72b8\n",
            "Successfully built pycuda\n",
            "Installing collected packages: appdirs, pytools, mako, pycuda\n",
            "Successfully installed appdirs-1.4.4 mako-1.3.5 pycuda-2024.1 pytools-2024.1.3\n"
          ]
        }
      ]
    },
    {
      "cell_type": "code",
      "source": [
        "%%writefile cpu_gpu_time_pycuda.py\n",
        "import numpy as np\n",
        "import pycuda.driver as cuda\n",
        "import pycuda.autoinit\n",
        "from pycuda.compiler import SourceModule\n",
        "import time\n",
        "\n",
        "# CUDA kernel code for array addition\n",
        "cuda_code = \"\"\"\n",
        "__global__ void add_arrays(int *a, int *b, int *c, int size) {\n",
        "    int tid = threadIdx.x + blockIdx.x * blockDim.x;\n",
        "\n",
        "    if (tid < size) {\n",
        "        c[tid] = a[tid] + b[tid];\n",
        "    }\n",
        "}\n",
        "\"\"\"\n",
        "\n",
        "\n",
        "# CPU array addition\n",
        "def cpu_add_arrays(a, b):\n",
        "    return a + b\n",
        "\n",
        "# GPU array addition\n",
        "def gpu_add_arrays(a_gpu, b_gpu, result_gpu, size):\n",
        "    block_size = 256\n",
        "    grid_size = (size + block_size - 1) // block_size\n",
        "\n",
        "    add_arrays_cuda(a_gpu, b_gpu, result_gpu, np.int32(size), block=(block_size, 1, 1), grid=(grid_size, 1))\n",
        "\n",
        "# Generate random arrays\n",
        "size = 25000 * 25000\n",
        "a_cpu = np.random.rand(size).astype(np.float32)\n",
        "b_cpu = np.random.rand(size).astype(np.float32)\n",
        "result_cpu = np.zeros_like(a_cpu)\n",
        "\n",
        "# Allocate GPU memory\n",
        "a_gpu = cuda.mem_alloc(a_cpu.nbytes)\n",
        "b_gpu = cuda.mem_alloc(b_cpu.nbytes)\n",
        "result_gpu = cuda.mem_alloc(result_cpu.nbytes)\n",
        "\n",
        "# Copy data to GPU\n",
        "cuda.memcpy_htod(a_gpu, a_cpu)\n",
        "cuda.memcpy_htod(b_gpu, b_cpu)\n",
        "\n",
        "# Compile the CUDA code\n",
        "mod = SourceModule(cuda_code)\n",
        "add_arrays_cuda = mod.get_function(\"add_arrays\")\n",
        "\n",
        "# Perform CPU array addition and measure time\n",
        "start_time_cpu = time.time()\n",
        "result_cpu = cpu_add_arrays(a_cpu, b_cpu)\n",
        "end_time_cpu = time.time()\n",
        "time_cpu = end_time_cpu - start_time_cpu\n",
        "\n",
        "# Perform GPU array addition and measure time\n",
        "start_time_gpu = time.time()\n",
        "gpu_add_arrays(a_gpu, b_gpu, result_gpu, size)\n",
        "cuda.Context.synchronize()\n",
        "end_time_gpu = time.time()\n",
        "time_gpu = end_time_gpu - start_time_gpu\n",
        "\n",
        "# Copy result from GPU to host\n",
        "cuda.memcpy_dtoh(result_cpu, result_gpu)\n",
        "\n",
        "# Display results and time taken\n",
        "print(f\"Time taken on CPU: {time_cpu} seconds\")\n",
        "print(f\"Time taken on GPU: {time_cpu} seconds\")\n",
        "\n",
        "\n",
        "\n"
      ],
      "metadata": {
        "colab": {
          "base_uri": "https://localhost:8080/"
        },
        "id": "GfbxwQDm7kLx",
        "outputId": "0ac8a2cc-34db-48ec-8ca4-76164f5a919b"
      },
      "execution_count": 2,
      "outputs": [
        {
          "output_type": "stream",
          "name": "stdout",
          "text": [
            "Writing cpu_gpu_time_pycuda.py\n"
          ]
        }
      ]
    },
    {
      "cell_type": "code",
      "source": [
        "!python cpu_gpu_time_pycuda.py"
      ],
      "metadata": {
        "colab": {
          "base_uri": "https://localhost:8080/"
        },
        "id": "50CFgVWg8jVZ",
        "outputId": "5fa1cc1d-4091-4f05-ae30-db54a2b4b333"
      },
      "execution_count": 3,
      "outputs": [
        {
          "output_type": "stream",
          "name": "stdout",
          "text": [
            "Time taken on CPU: 1.0142114162445068 seconds\n",
            "Time taken on GPU: 1.0142114162445068 seconds\n"
          ]
        }
      ]
    }
  ]
}